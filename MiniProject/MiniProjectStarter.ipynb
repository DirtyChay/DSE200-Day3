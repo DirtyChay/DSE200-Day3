{
 "cells": [
  {
   "cell_type": "code",
   "execution_count": 1,
   "metadata": {},
   "outputs": [
    {
     "name": "stdout",
     "output_type": "stream",
     "text": [
      "Requirement already satisfied: numpy in /home/codespace/.local/lib/python3.12/site-packages (2.1.1)\n",
      "Requirement already satisfied: pandas in /home/codespace/.local/lib/python3.12/site-packages (2.2.3)\n",
      "Requirement already satisfied: matplotlib in /home/codespace/.local/lib/python3.12/site-packages (3.9.2)\n",
      "Requirement already satisfied: seaborn in /home/codespace/.local/lib/python3.12/site-packages (0.13.2)\n",
      "Requirement already satisfied: scipy in /home/codespace/.local/lib/python3.12/site-packages (1.14.1)\n",
      "Requirement already satisfied: scikit-learn in /home/codespace/.local/lib/python3.12/site-packages (1.5.2)\n",
      "Collecting kagglehub\n",
      "  Downloading kagglehub-0.3.3-py3-none-any.whl.metadata (22 kB)\n",
      "Requirement already satisfied: python-dateutil>=2.8.2 in /home/codespace/.local/lib/python3.12/site-packages (from pandas) (2.9.0.post0)\n",
      "Requirement already satisfied: pytz>=2020.1 in /home/codespace/.local/lib/python3.12/site-packages (from pandas) (2024.2)\n",
      "Requirement already satisfied: tzdata>=2022.7 in /home/codespace/.local/lib/python3.12/site-packages (from pandas) (2024.2)\n",
      "Requirement already satisfied: contourpy>=1.0.1 in /home/codespace/.local/lib/python3.12/site-packages (from matplotlib) (1.3.0)\n",
      "Requirement already satisfied: cycler>=0.10 in /home/codespace/.local/lib/python3.12/site-packages (from matplotlib) (0.12.1)\n",
      "Requirement already satisfied: fonttools>=4.22.0 in /home/codespace/.local/lib/python3.12/site-packages (from matplotlib) (4.54.1)\n",
      "Requirement already satisfied: kiwisolver>=1.3.1 in /home/codespace/.local/lib/python3.12/site-packages (from matplotlib) (1.4.7)\n",
      "Requirement already satisfied: packaging>=20.0 in /home/codespace/.local/lib/python3.12/site-packages (from matplotlib) (24.1)\n",
      "Requirement already satisfied: pillow>=8 in /home/codespace/.local/lib/python3.12/site-packages (from matplotlib) (10.4.0)\n",
      "Requirement already satisfied: pyparsing>=2.3.1 in /home/codespace/.local/lib/python3.12/site-packages (from matplotlib) (3.1.4)\n",
      "Requirement already satisfied: joblib>=1.2.0 in /home/codespace/.local/lib/python3.12/site-packages (from scikit-learn) (1.4.2)\n",
      "Requirement already satisfied: threadpoolctl>=3.1.0 in /home/codespace/.local/lib/python3.12/site-packages (from scikit-learn) (3.5.0)\n",
      "Requirement already satisfied: requests in /home/codespace/.local/lib/python3.12/site-packages (from kagglehub) (2.32.3)\n",
      "Collecting tqdm (from kagglehub)\n",
      "  Downloading tqdm-4.66.5-py3-none-any.whl.metadata (57 kB)\n",
      "Requirement already satisfied: six>=1.5 in /home/codespace/.local/lib/python3.12/site-packages (from python-dateutil>=2.8.2->pandas) (1.16.0)\n",
      "Requirement already satisfied: charset-normalizer<4,>=2 in /home/codespace/.local/lib/python3.12/site-packages (from requests->kagglehub) (3.3.2)\n",
      "Requirement already satisfied: idna<4,>=2.5 in /home/codespace/.local/lib/python3.12/site-packages (from requests->kagglehub) (3.10)\n",
      "Requirement already satisfied: urllib3<3,>=1.21.1 in /home/codespace/.local/lib/python3.12/site-packages (from requests->kagglehub) (2.2.3)\n",
      "Requirement already satisfied: certifi>=2017.4.17 in /home/codespace/.local/lib/python3.12/site-packages (from requests->kagglehub) (2024.8.30)\n",
      "Downloading kagglehub-0.3.3-py3-none-any.whl (42 kB)\n",
      "Downloading tqdm-4.66.5-py3-none-any.whl (78 kB)\n",
      "Installing collected packages: tqdm, kagglehub\n",
      "\u001b[33m  WARNING: The script tqdm is installed in '/usr/local/python/3.12.1/bin' which is not on PATH.\n",
      "  Consider adding this directory to PATH or, if you prefer to suppress this warning, use --no-warn-script-location.\u001b[0m\u001b[33m\n",
      "\u001b[0mSuccessfully installed kagglehub-0.3.3 tqdm-4.66.5\n",
      "Note: you may need to restart the kernel to use updated packages.\n"
     ]
    }
   ],
   "source": [
    "%pip install numpy pandas matplotlib seaborn scipy scikit-learn kagglehub"
   ]
  },
  {
   "cell_type": "code",
   "execution_count": 3,
   "metadata": {},
   "outputs": [],
   "source": [
    "import kagglehub\n",
    "import numpy as np\n",
    "import pandas as pd\n",
    "import matplotlib.pyplot as plt\n",
    "import seaborn as sns\n",
    "from scipy import stats"
   ]
  },
  {
   "cell_type": "code",
   "execution_count": 5,
   "metadata": {},
   "outputs": [
    {
     "name": "stdout",
     "output_type": "stream",
     "text": [
      "Path to dataset files: /home/codespace/.cache/kagglehub/datasets/ihormuliar/starbucks-customer-data/versions/1\n"
     ]
    }
   ],
   "source": [
    "# Download latest version\n",
    "path = kagglehub.dataset_download(\"ihormuliar/starbucks-customer-data\")\n",
    "\n",
    "print(\"Path to dataset files:\", path)\n",
    "\n",
    "# portfolio.csv\n",
    "portfolio_df = pd.read_csv(path + \"/portfolio.csv\")\n",
    "\n",
    "# profile.csv\n",
    "profile_df = pd.read_csv(path + \"/profile.csv\")\n",
    "\n",
    "# transcript.csv\n",
    "transcript_df = pd.read_csv(path + \"/transcript.csv\")"
   ]
  },
  {
   "cell_type": "code",
   "execution_count": 6,
   "metadata": {},
   "outputs": [
    {
     "data": {
      "text/plain": [
       "(   Unnamed: 0  reward                              channels  difficulty  \\\n",
       " 0           0      10         ['email', 'mobile', 'social']          10   \n",
       " 1           1      10  ['web', 'email', 'mobile', 'social']          10   \n",
       " 2           2       0            ['web', 'email', 'mobile']           0   \n",
       " 3           3       5            ['web', 'email', 'mobile']           5   \n",
       " 4           4       5                      ['web', 'email']          20   \n",
       " \n",
       "    duration     offer_type                                id  \n",
       " 0         7           bogo  ae264e3637204a6fb9bb56bc8210ddfd  \n",
       " 1         5           bogo  4d5c57ea9a6940dd891ad53e9dbe8da0  \n",
       " 2         4  informational  3f207df678b143eea3cee63160fa8bed  \n",
       " 3         7           bogo  9b98b8c7a33c4b65b9aebfe6a799e6d9  \n",
       " 4        10       discount  0b1e1539f2cc45b7b9fa7c272da2e1d7  ,\n",
       "    Unnamed: 0 gender  age                                id  became_member_on  \\\n",
       " 0           0    NaN  118  68be06ca386d4c31939f3a4f0e3dd783          20170212   \n",
       " 1           1      F   55  0610b486422d4921ae7d2bf64640c50b          20170715   \n",
       " 2           2    NaN  118  38fe809add3b4fcf9315a9694bb96ff5          20180712   \n",
       " 3           3      F   75  78afa995795e4d85b5d9ceeca43f5fef          20170509   \n",
       " 4           4    NaN  118  a03223e636434f42ac4c3df47e8bac43          20170804   \n",
       " \n",
       "      income  \n",
       " 0       NaN  \n",
       " 1  112000.0  \n",
       " 2       NaN  \n",
       " 3  100000.0  \n",
       " 4       NaN  ,\n",
       "    Unnamed: 0                            person           event  \\\n",
       " 0           0  78afa995795e4d85b5d9ceeca43f5fef  offer received   \n",
       " 1           1  a03223e636434f42ac4c3df47e8bac43  offer received   \n",
       " 2           2  e2127556f4f64592b11af22de27a7932  offer received   \n",
       " 3           3  8ec6ce2a7e7949b1bf142def7d0e0586  offer received   \n",
       " 4           4  68617ca6246f4fbc85e91a2a49552598  offer received   \n",
       " \n",
       "                                               value  time  \n",
       " 0  {'offer id': '9b98b8c7a33c4b65b9aebfe6a799e6d9'}     0  \n",
       " 1  {'offer id': '0b1e1539f2cc45b7b9fa7c272da2e1d7'}     0  \n",
       " 2  {'offer id': '2906b810c7d4411798c6938adc9daaa5'}     0  \n",
       " 3  {'offer id': 'fafdcd668e3743c1bb461111dcafc2a4'}     0  \n",
       " 4  {'offer id': '4d5c57ea9a6940dd891ad53e9dbe8da0'}     0  )"
      ]
     },
     "execution_count": 6,
     "metadata": {},
     "output_type": "execute_result"
    }
   ],
   "source": [
    "portfolio_df.head(), profile_df.head(), transcript_df.head()"
   ]
  }
 ],
 "metadata": {
  "kernelspec": {
   "display_name": "Python 3",
   "language": "python",
   "name": "python3"
  },
  "language_info": {
   "codemirror_mode": {
    "name": "ipython",
    "version": 3
   },
   "file_extension": ".py",
   "mimetype": "text/x-python",
   "name": "python",
   "nbconvert_exporter": "python",
   "pygments_lexer": "ipython3",
   "version": "3.12.1"
  }
 },
 "nbformat": 4,
 "nbformat_minor": 2
}
